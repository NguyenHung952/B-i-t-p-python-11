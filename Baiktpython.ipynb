{
 "cells": [
  {
   "cell_type": "code",
   "execution_count": 3,
   "id": "9ea92bfa-be64-479d-8720-17923e18c2ca",
   "metadata": {},
   "outputs": [
    {
     "ename": "NoSuchWindowException",
     "evalue": "Message: no such window: target window already closed\nfrom unknown error: web view not found\n  (Session info: chrome=107.0.5304.63)\n",
     "output_type": "error",
     "traceback": [
      "\u001b[1;31m---------------------------------------------------------------------------\u001b[0m",
      "\u001b[1;31mNoSuchWindowException\u001b[0m                     Traceback (most recent call last)",
      "Input \u001b[1;32mIn [3]\u001b[0m, in \u001b[0;36m<cell line: 34>\u001b[1;34m()\u001b[0m\n\u001b[0;32m     36\u001b[0m writer \u001b[38;5;241m=\u001b[39m csv\u001b[38;5;241m.\u001b[39mDictWriter(file_output, delimiter \u001b[38;5;241m=\u001b[39m \u001b[38;5;124m'\u001b[39m\u001b[38;5;124m,\u001b[39m\u001b[38;5;124m'\u001b[39m, lineterminator \u001b[38;5;241m=\u001b[39m \u001b[38;5;124m'\u001b[39m\u001b[38;5;130;01m\\n\u001b[39;00m\u001b[38;5;124m'\u001b[39m, fieldnames \u001b[38;5;241m=\u001b[39m headers)\n\u001b[0;32m     37\u001b[0m writer\u001b[38;5;241m.\u001b[39mwriteheader()\n\u001b[1;32m---> 38\u001b[0m \u001b[38;5;28;01mfor\u001b[39;00m ketqua \u001b[38;5;129;01min\u001b[39;00m \u001b[43mfull_URL\u001b[49m\u001b[43m(\u001b[49m\u001b[43m)\u001b[49m:\n\u001b[0;32m     39\u001b[0m         driver\u001b[38;5;241m.\u001b[39mget(ketqua)\n\u001b[0;32m     40\u001b[0m         sleep(\u001b[38;5;241m1\u001b[39m)\n",
      "Input \u001b[1;32mIn [3]\u001b[0m, in \u001b[0;36mfull_URL\u001b[1;34m()\u001b[0m\n\u001b[0;32m     24\u001b[0m URL_one_page \u001b[38;5;241m=\u001b[39m GetURL()\n\u001b[0;32m     25\u001b[0m sleep(\u001b[38;5;241m1\u001b[39m)\n\u001b[1;32m---> 26\u001b[0m \u001b[43mdriver\u001b[49m\u001b[38;5;241;43m.\u001b[39;49m\u001b[43mexecute_script\u001b[49m\u001b[43m(\u001b[49m\u001b[38;5;124;43m'\u001b[39;49m\u001b[38;5;124;43mwindow.scrollTo(0,document.body.scrollHeight)\u001b[39;49m\u001b[38;5;124;43m'\u001b[39;49m\u001b[43m)\u001b[49m\n\u001b[0;32m     27\u001b[0m sleep(\u001b[38;5;241m1\u001b[39m)\n\u001b[0;32m     28\u001b[0m next_button \u001b[38;5;241m=\u001b[39m driver\u001b[38;5;241m.\u001b[39mfind_element(\u001b[38;5;124m'\u001b[39m\u001b[38;5;124mxpath\u001b[39m\u001b[38;5;124m'\u001b[39m,\u001b[38;5;124m'\u001b[39m\u001b[38;5;124m//*[@id=\u001b[39m\u001b[38;5;124m\"\u001b[39m\u001b[38;5;124mdivResultContent\u001b[39m\u001b[38;5;124m\"\u001b[39m\u001b[38;5;124m]/div/div/ul/li[7]/a\u001b[39m\u001b[38;5;124m'\u001b[39m)\n",
      "File \u001b[1;32mD:\\Anaconda\\lib\\site-packages\\selenium\\webdriver\\remote\\webdriver.py:634\u001b[0m, in \u001b[0;36mWebDriver.execute_script\u001b[1;34m(self, script, *args)\u001b[0m\n\u001b[0;32m    631\u001b[0m \u001b[38;5;28;01melse\u001b[39;00m:\n\u001b[0;32m    632\u001b[0m     command \u001b[38;5;241m=\u001b[39m Command\u001b[38;5;241m.\u001b[39mEXECUTE_SCRIPT\n\u001b[1;32m--> 634\u001b[0m \u001b[38;5;28;01mreturn\u001b[39;00m \u001b[38;5;28;43mself\u001b[39;49m\u001b[38;5;241;43m.\u001b[39;49m\u001b[43mexecute\u001b[49m\u001b[43m(\u001b[49m\u001b[43mcommand\u001b[49m\u001b[43m,\u001b[49m\u001b[43m \u001b[49m\u001b[43m{\u001b[49m\n\u001b[0;32m    635\u001b[0m \u001b[43m    \u001b[49m\u001b[38;5;124;43m'\u001b[39;49m\u001b[38;5;124;43mscript\u001b[39;49m\u001b[38;5;124;43m'\u001b[39;49m\u001b[43m:\u001b[49m\u001b[43m \u001b[49m\u001b[43mscript\u001b[49m\u001b[43m,\u001b[49m\n\u001b[0;32m    636\u001b[0m \u001b[43m    \u001b[49m\u001b[38;5;124;43m'\u001b[39;49m\u001b[38;5;124;43margs\u001b[39;49m\u001b[38;5;124;43m'\u001b[39;49m\u001b[43m:\u001b[49m\u001b[43m \u001b[49m\u001b[43mconverted_args\u001b[49m\u001b[43m}\u001b[49m\u001b[43m)\u001b[49m[\u001b[38;5;124m'\u001b[39m\u001b[38;5;124mvalue\u001b[39m\u001b[38;5;124m'\u001b[39m]\n",
      "File \u001b[1;32mD:\\Anaconda\\lib\\site-packages\\selenium\\webdriver\\remote\\webdriver.py:321\u001b[0m, in \u001b[0;36mWebDriver.execute\u001b[1;34m(self, driver_command, params)\u001b[0m\n\u001b[0;32m    319\u001b[0m response \u001b[38;5;241m=\u001b[39m \u001b[38;5;28mself\u001b[39m\u001b[38;5;241m.\u001b[39mcommand_executor\u001b[38;5;241m.\u001b[39mexecute(driver_command, params)\n\u001b[0;32m    320\u001b[0m \u001b[38;5;28;01mif\u001b[39;00m response:\n\u001b[1;32m--> 321\u001b[0m     \u001b[38;5;28;43mself\u001b[39;49m\u001b[38;5;241;43m.\u001b[39;49m\u001b[43merror_handler\u001b[49m\u001b[38;5;241;43m.\u001b[39;49m\u001b[43mcheck_response\u001b[49m\u001b[43m(\u001b[49m\u001b[43mresponse\u001b[49m\u001b[43m)\u001b[49m\n\u001b[0;32m    322\u001b[0m     response[\u001b[38;5;124m'\u001b[39m\u001b[38;5;124mvalue\u001b[39m\u001b[38;5;124m'\u001b[39m] \u001b[38;5;241m=\u001b[39m \u001b[38;5;28mself\u001b[39m\u001b[38;5;241m.\u001b[39m_unwrap_value(\n\u001b[0;32m    323\u001b[0m         response\u001b[38;5;241m.\u001b[39mget(\u001b[38;5;124m'\u001b[39m\u001b[38;5;124mvalue\u001b[39m\u001b[38;5;124m'\u001b[39m, \u001b[38;5;28;01mNone\u001b[39;00m))\n\u001b[0;32m    324\u001b[0m     \u001b[38;5;28;01mreturn\u001b[39;00m response\n",
      "File \u001b[1;32mD:\\Anaconda\\lib\\site-packages\\selenium\\webdriver\\remote\\errorhandler.py:242\u001b[0m, in \u001b[0;36mErrorHandler.check_response\u001b[1;34m(self, response)\u001b[0m\n\u001b[0;32m    240\u001b[0m         alert_text \u001b[38;5;241m=\u001b[39m value[\u001b[38;5;124m'\u001b[39m\u001b[38;5;124malert\u001b[39m\u001b[38;5;124m'\u001b[39m]\u001b[38;5;241m.\u001b[39mget(\u001b[38;5;124m'\u001b[39m\u001b[38;5;124mtext\u001b[39m\u001b[38;5;124m'\u001b[39m)\n\u001b[0;32m    241\u001b[0m     \u001b[38;5;28;01mraise\u001b[39;00m exception_class(message, screen, stacktrace, alert_text)\n\u001b[1;32m--> 242\u001b[0m \u001b[38;5;28;01mraise\u001b[39;00m exception_class(message, screen, stacktrace)\n",
      "\u001b[1;31mNoSuchWindowException\u001b[0m: Message: no such window: target window already closed\nfrom unknown error: web view not found\n  (Session info: chrome=107.0.5304.63)\n"
     ]
    }
   ],
   "source": [
    "from selenium import webdriver\n",
    "from selenium.webdriver.common.keys import Keys\n",
    "from selenium.webdriver.common.by import By\n",
    "from bs4 import BeautifulSoup\n",
    "from time import sleep\n",
    "import csv\n",
    "driver = webdriver.Chrome()\n",
    "url = 'https://vietlott.vn/vi/trung-thuong/ket-qua-trung-thuong/winning-number-645'\n",
    "driver.get(url)\n",
    "#step1: lay link cac ky quay so\n",
    "def GetURL():\n",
    "    page_source = BeautifulSoup(driver.page_source)\n",
    "    x1 = page_source.find('table',class_='table table-hover')\n",
    "    x4 = x1.find_all('a')\n",
    "    all_ky = []\n",
    "    for ky in x4:\n",
    "        ky_id = ky.get('href')\n",
    "        ky_URL = \"https://vietlott.vn\" + ky_id\n",
    "        all_ky.append(ky_URL)\n",
    "    return all_ky\n",
    "def full_URL():\n",
    "    URL_all_page = []\n",
    "    for page in range (100):\n",
    "        URL_one_page = GetURL()\n",
    "        sleep(1)\n",
    "        driver.execute_script('window.scrollTo(0,document.body.scrollHeight)')\n",
    "        sleep(1)\n",
    "        next_button = driver.find_element('xpath','//*[@id=\"divResultContent\"]/div/div/ul/li[7]/a')\n",
    "        next_button.click()\n",
    "        URL_all_page = URL_all_page + URL_one_page\n",
    "        sleep(1)\n",
    "    return URL_all_page\n",
    "#step 2: Loc thong tin va cho vao file csv\n",
    "with open('vietlott.csv', 'w', newline = '') as file_output:\n",
    "        headers = ['Ngay', 'Ky', 'Bong tron 1', 'Bong tron 2', 'Bong tron 3', 'Bong tron 4', 'Bong tron 5', 'Bong tron 6']\n",
    "        writer = csv.DictWriter(file_output, delimiter = ',', lineterminator = '\\n', fieldnames = headers)\n",
    "        writer.writeheader()\n",
    "        for ketqua in full_URL():\n",
    "                driver.get(ketqua)\n",
    "                sleep(1)\n",
    "                page_source = BeautifulSoup(driver.page_source, \"html.parser\")\n",
    "                info_ky = page_source.find('div', class_=\"chitietketqua_title\")\n",
    "                info_loc = info_ky.find('h5')\n",
    "                info_loc1 = info_loc.find_all('b')\n",
    "                ky = info_loc1[0].get_text()\n",
    "                print('Ky: ',ky)\n",
    "                ngay = info_loc1[1].get_text()\n",
    "                print('Ngay: ',ngay) \n",
    "                info_so = page_source.find('div', class_=\"day_so_ket_qua_v2\")\n",
    "                info_all_bongtron = info_so.find_all('span')\n",
    "                bongtron1 = info_all_bongtron[0].get_text()\n",
    "                bongtron2 = info_all_bongtron[1].get_text()\n",
    "                bongtron3 = info_all_bongtron[2].get_text()\n",
    "                bongtron4 = info_all_bongtron[3].get_text()\n",
    "                bongtron5 = info_all_bongtron[4].get_text()\n",
    "                bongtron6 = info_all_bongtron[5].get_text()\n",
    "                print(bongtron1)\n",
    "                print(bongtron2)\n",
    "                print(bongtron3)\n",
    "                print(bongtron4)\n",
    "                print(bongtron5)\n",
    "                print(bongtron6)\n",
    "                writer.writerow({headers[0]:ngay, headers[1]:ky, headers[2]:bongtron1, headers[3]:bongtron2, headers[4]:bongtron3, headers[5]:bongtron4, headers[6]:bongtron5, headers[7]:bongtron6})"
   ]
  },
  {
   "cell_type": "code",
   "execution_count": null,
   "id": "bec810d2-12c0-40a0-afbf-50ab1bd37ae7",
   "metadata": {},
   "outputs": [],
   "source": []
  }
 ],
 "metadata": {
  "kernelspec": {
   "display_name": "Python 3 (ipykernel)",
   "language": "python",
   "name": "python3"
  },
  "language_info": {
   "codemirror_mode": {
    "name": "ipython",
    "version": 3
   },
   "file_extension": ".py",
   "mimetype": "text/x-python",
   "name": "python",
   "nbconvert_exporter": "python",
   "pygments_lexer": "ipython3",
   "version": "3.9.12"
  }
 },
 "nbformat": 4,
 "nbformat_minor": 5
}
