{
 "cells": [
  {
   "cell_type": "code",
   "execution_count": 1,
   "id": "a991a43f-2ed4-49f2-9721-4ec57e3bae37",
   "metadata": {},
   "outputs": [
    {
     "data": {
      "text/html": [
       "<div>\n",
       "<style scoped>\n",
       "    .dataframe tbody tr th:only-of-type {\n",
       "        vertical-align: middle;\n",
       "    }\n",
       "\n",
       "    .dataframe tbody tr th {\n",
       "        vertical-align: top;\n",
       "    }\n",
       "\n",
       "    .dataframe thead th {\n",
       "        text-align: right;\n",
       "    }\n",
       "</style>\n",
       "<table border=\"1\" class=\"dataframe\">\n",
       "  <thead>\n",
       "    <tr style=\"text-align: right;\">\n",
       "      <th></th>\n",
       "      <th>Ngay</th>\n",
       "      <th>Ky</th>\n",
       "      <th>Bong tron 1</th>\n",
       "      <th>Bong tron 2</th>\n",
       "      <th>Bong tron 3</th>\n",
       "      <th>Bong tron 4</th>\n",
       "      <th>Bong tron 5</th>\n",
       "      <th>Bong tron 6</th>\n",
       "    </tr>\n",
       "  </thead>\n",
       "  <tbody>\n",
       "    <tr>\n",
       "      <th>0</th>\n",
       "      <td>30/10/2022</td>\n",
       "      <td>#00960</td>\n",
       "      <td>15</td>\n",
       "      <td>27</td>\n",
       "      <td>31</td>\n",
       "      <td>36</td>\n",
       "      <td>38</td>\n",
       "      <td>41</td>\n",
       "    </tr>\n",
       "    <tr>\n",
       "      <th>1</th>\n",
       "      <td>28/10/2022</td>\n",
       "      <td>#00959</td>\n",
       "      <td>16</td>\n",
       "      <td>21</td>\n",
       "      <td>22</td>\n",
       "      <td>33</td>\n",
       "      <td>42</td>\n",
       "      <td>45</td>\n",
       "    </tr>\n",
       "    <tr>\n",
       "      <th>2</th>\n",
       "      <td>26/10/2022</td>\n",
       "      <td>#00958</td>\n",
       "      <td>2</td>\n",
       "      <td>3</td>\n",
       "      <td>10</td>\n",
       "      <td>15</td>\n",
       "      <td>31</td>\n",
       "      <td>36</td>\n",
       "    </tr>\n",
       "    <tr>\n",
       "      <th>3</th>\n",
       "      <td>23/10/2022</td>\n",
       "      <td>#00957</td>\n",
       "      <td>2</td>\n",
       "      <td>11</td>\n",
       "      <td>18</td>\n",
       "      <td>33</td>\n",
       "      <td>36</td>\n",
       "      <td>45</td>\n",
       "    </tr>\n",
       "    <tr>\n",
       "      <th>4</th>\n",
       "      <td>21/10/2022</td>\n",
       "      <td>#00956</td>\n",
       "      <td>10</td>\n",
       "      <td>16</td>\n",
       "      <td>17</td>\n",
       "      <td>18</td>\n",
       "      <td>34</td>\n",
       "      <td>42</td>\n",
       "    </tr>\n",
       "    <tr>\n",
       "      <th>...</th>\n",
       "      <td>...</td>\n",
       "      <td>...</td>\n",
       "      <td>...</td>\n",
       "      <td>...</td>\n",
       "      <td>...</td>\n",
       "      <td>...</td>\n",
       "      <td>...</td>\n",
       "      <td>...</td>\n",
       "    </tr>\n",
       "    <tr>\n",
       "      <th>148</th>\n",
       "      <td>19/11/2021</td>\n",
       "      <td>#00812</td>\n",
       "      <td>9</td>\n",
       "      <td>10</td>\n",
       "      <td>26</td>\n",
       "      <td>28</td>\n",
       "      <td>39</td>\n",
       "      <td>43</td>\n",
       "    </tr>\n",
       "    <tr>\n",
       "      <th>149</th>\n",
       "      <td>17/11/2021</td>\n",
       "      <td>#00811</td>\n",
       "      <td>4</td>\n",
       "      <td>15</td>\n",
       "      <td>25</td>\n",
       "      <td>26</td>\n",
       "      <td>32</td>\n",
       "      <td>35</td>\n",
       "    </tr>\n",
       "    <tr>\n",
       "      <th>150</th>\n",
       "      <td>14/11/2021</td>\n",
       "      <td>#00810</td>\n",
       "      <td>3</td>\n",
       "      <td>5</td>\n",
       "      <td>18</td>\n",
       "      <td>28</td>\n",
       "      <td>42</td>\n",
       "      <td>43</td>\n",
       "    </tr>\n",
       "    <tr>\n",
       "      <th>151</th>\n",
       "      <td>12/11/2021</td>\n",
       "      <td>#00809</td>\n",
       "      <td>11</td>\n",
       "      <td>14</td>\n",
       "      <td>18</td>\n",
       "      <td>24</td>\n",
       "      <td>35</td>\n",
       "      <td>37</td>\n",
       "    </tr>\n",
       "    <tr>\n",
       "      <th>152</th>\n",
       "      <td>10/11/2021</td>\n",
       "      <td>#00808</td>\n",
       "      <td>17</td>\n",
       "      <td>18</td>\n",
       "      <td>19</td>\n",
       "      <td>20</td>\n",
       "      <td>27</td>\n",
       "      <td>44</td>\n",
       "    </tr>\n",
       "  </tbody>\n",
       "</table>\n",
       "<p>153 rows × 8 columns</p>\n",
       "</div>"
      ],
      "text/plain": [
       "           Ngay      Ky  Bong tron 1  Bong tron 2  Bong tron 3  Bong tron 4  \\\n",
       "0    30/10/2022  #00960           15           27           31           36   \n",
       "1    28/10/2022  #00959           16           21           22           33   \n",
       "2    26/10/2022  #00958            2            3           10           15   \n",
       "3    23/10/2022  #00957            2           11           18           33   \n",
       "4    21/10/2022  #00956           10           16           17           18   \n",
       "..          ...     ...          ...          ...          ...          ...   \n",
       "148  19/11/2021  #00812            9           10           26           28   \n",
       "149  17/11/2021  #00811            4           15           25           26   \n",
       "150  14/11/2021  #00810            3            5           18           28   \n",
       "151  12/11/2021  #00809           11           14           18           24   \n",
       "152  10/11/2021  #00808           17           18           19           20   \n",
       "\n",
       "     Bong tron 5  Bong tron 6  \n",
       "0             38           41  \n",
       "1             42           45  \n",
       "2             31           36  \n",
       "3             36           45  \n",
       "4             34           42  \n",
       "..           ...          ...  \n",
       "148           39           43  \n",
       "149           32           35  \n",
       "150           42           43  \n",
       "151           35           37  \n",
       "152           27           44  \n",
       "\n",
       "[153 rows x 8 columns]"
      ]
     },
     "execution_count": 1,
     "metadata": {},
     "output_type": "execute_result"
    }
   ],
   "source": [
    "import pandas as pd\n",
    "import numpy as np\n",
    "import matplotlib.pyplot as pl\n",
    "import seaborn as sb\n",
    "cities = pd.read_csv('vietlott.csv')\n",
    "cities.head(800)"
   ]
  },
  {
   "cell_type": "code",
   "execution_count": 4,
   "id": "902fbb70-04e6-49ba-bb17-ed9c32be6e6f",
   "metadata": {},
   "outputs": [
    {
     "data": {
      "image/png": "[encoded data removed]",
      "text/plain": [
       "<Figure size 450x360 with 1 Axes>"
      ]
     },
     "metadata": {
      "needs_background": "light"
     },
     "output_type": "display_data"
    },
    {
     "data": {
      "image/png": "[encoded data removed]",
      "text/plain": [
       "<Figure size 450x360 with 1 Axes>"
      ]
     },
     "metadata": {
      "needs_background": "light"
     },
     "output_type": "display_data"
    },
    {
     "data": {
      "image/png": "[encoded data removed]",
      "text/plain": [
       "<Figure size 450x360 with 1 Axes>"
      ]
     },
     "metadata": {
      "needs_background": "light"
     },
     "output_type": "display_data"
    },
    {
     "data": {
      "image/png": "[encoded data removed]",
      "text/plain": [
       "<Figure size 450x360 with 1 Axes>"
      ]
     },
     "metadata": {
      "needs_background": "light"
     },
     "output_type": "display_data"
    },
    {
     "data": {
      "image/png": "[encoded data removed]",
      "text/plain": [
       "<Figure size 450x360 with 1 Axes>"
      ]
     },
     "metadata": {
      "needs_background": "light"
     },
     "output_type": "display_data"
    },
    {
     "data": {
      "image/png": "[encoded data removed]",
      "text/plain": [
       "<Figure size 450x360 with 1 Axes>"
      ]
     },
     "metadata": {
      "needs_background": "light"
     },
     "output_type": "display_data"
    }
   ],
   "source": [
    "#Biểu đồ Trực quan từng Bộ số xem những cặp số nào có xác xuất ra cao , thấp như thế nào ?\n",
    "sb.displot(cities['Bong tron 1'],stat='percent',aspect=1.25, bins=10, height=5, color=\"g\")\n",
    "sb.displot(cities['Bong tron 2'],stat='percent',aspect=1.25, bins=10, height=5, color=\"r\")\n",
    "sb.displot(cities['Bong tron 3'],stat='percent',aspect=1.25, bins=10, height=5, color=\"pink\")\n",
    "sb.displot(cities['Bong tron 4'],stat='percent',aspect=1.25, bins=10, height=5, color=\"yellow\")\n",
    "sb.displot(cities['Bong tron 5'],stat='percent',aspect=1.25, bins=10, height=5, color=\"Violet\")\n",
    "sb.displot(cities['Bong tron 6'],stat='percent',aspect=1.25, bins=10, height=5, color=\"blue\")\n",
    "\n",
    "pl.tight_layout()"
   ]
  },
  {
   "cell_type": "code",
   "execution_count": null,
   "id": "4d2ad0dc-024f-4bec-a631-9b1d295d5b8c",
   "metadata": {},
   "outputs": [],
   "source": []
  }
 ],
 "metadata": {
  "kernelspec": {
   "display_name": "Python 3 (ipykernel)",
   "language": "python",
   "name": "python3"
  },
  "language_info": {
   "codemirror_mode": {
    "name": "ipython",
    "version": 3
   },
   "file_extension": ".py",
   "mimetype": "text/x-python",
   "name": "python",
   "nbconvert_exporter": "python",
   "pygments_lexer": "ipython3",
   "version": "3.9.12"
  }
 },
 "nbformat": 4,
 "nbformat_minor": 5
}
